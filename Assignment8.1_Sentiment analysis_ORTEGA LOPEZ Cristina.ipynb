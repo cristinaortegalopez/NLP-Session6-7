{
 "cells": [
  {
   "cell_type": "markdown",
   "id": "5dad4f12-3183-418d-a304-7f520a419f63",
   "metadata": {},
   "source": [
    "Assignment 8.1.: Sentiment analysis"
   ]
  },
  {
   "cell_type": "markdown",
   "id": "c6249f05-f2b0-4201-9345-d184512f021b",
   "metadata": {},
   "source": [
    " Lexicon based methods: VADER algorithm"
   ]
  },
  {
   "cell_type": "code",
   "execution_count": 1,
   "id": "a9b22370-5111-42dc-8e48-20705f4fb186",
   "metadata": {},
   "outputs": [
    {
     "name": "stdout",
     "output_type": "stream",
     "text": [
      "Requirement already satisfied: nltk in c:\\users\\cristina ortega\\anaconda3\\lib\\site-packages (3.8.1)\n",
      "Requirement already satisfied: pandas in c:\\users\\cristina ortega\\anaconda3\\lib\\site-packages (1.5.3)\n",
      "Requirement already satisfied: click in c:\\users\\cristina ortega\\anaconda3\\lib\\site-packages (from nltk) (8.1.7)\n",
      "Requirement already satisfied: joblib in c:\\users\\cristina ortega\\anaconda3\\lib\\site-packages (from nltk) (1.5.1)\n",
      "Requirement already satisfied: regex>=2021.8.3 in c:\\users\\cristina ortega\\anaconda3\\lib\\site-packages (from nltk) (2023.10.3)\n",
      "Requirement already satisfied: tqdm in c:\\users\\cristina ortega\\anaconda3\\lib\\site-packages (from nltk) (4.65.0)\n",
      "Requirement already satisfied: python-dateutil>=2.8.1 in c:\\users\\cristina ortega\\anaconda3\\lib\\site-packages (from pandas) (2.8.2)\n",
      "Requirement already satisfied: pytz>=2020.1 in c:\\users\\cristina ortega\\anaconda3\\lib\\site-packages (from pandas) (2023.3.post1)\n",
      "Requirement already satisfied: numpy>=1.21.0 in c:\\users\\cristina ortega\\anaconda3\\lib\\site-packages (from pandas) (1.24.4)\n",
      "Requirement already satisfied: six>=1.5 in c:\\users\\cristina ortega\\anaconda3\\lib\\site-packages (from python-dateutil>=2.8.1->pandas) (1.16.0)\n",
      "Requirement already satisfied: colorama in c:\\users\\cristina ortega\\anaconda3\\lib\\site-packages (from click->nltk) (0.4.6)\n",
      "Note: you may need to restart the kernel to use updated packages.\n"
     ]
    }
   ],
   "source": [
    "pip install nltk pandas"
   ]
  },
  {
   "cell_type": "code",
   "execution_count": 2,
   "id": "da60c8be-2a18-4579-8925-16b928e5539b",
   "metadata": {},
   "outputs": [
    {
     "name": "stderr",
     "output_type": "stream",
     "text": [
      "[nltk_data] Downloading package vader_lexicon to C:\\Users\\Cristina\n",
      "[nltk_data]     Ortega\\AppData\\Roaming\\nltk_data...\n"
     ]
    },
    {
     "data": {
      "text/plain": [
       "True"
      ]
     },
     "execution_count": 2,
     "metadata": {},
     "output_type": "execute_result"
    }
   ],
   "source": [
    "import nltk\n",
    "nltk.download('vader_lexicon')"
   ]
  },
  {
   "cell_type": "code",
   "execution_count": 4,
   "id": "d91a0ebc-b419-4175-b9d3-f1f8c3b3078c",
   "metadata": {},
   "outputs": [
    {
     "name": "stdout",
     "output_type": "stream",
     "text": [
      "Index(['Unnamed: 0', 'Date Created', 'Number of Likes', 'Source of Tweet',\n",
      "       'Tweets', 'hashtag'],\n",
      "      dtype='object')\n"
     ]
    },
    {
     "name": "stderr",
     "output_type": "stream",
     "text": [
      "[nltk_data] Downloading package vader_lexicon to C:\\Users\\Cristina\n",
      "[nltk_data]     Ortega\\AppData\\Roaming\\nltk_data...\n",
      "[nltk_data]   Package vader_lexicon is already up-to-date!\n"
     ]
    }
   ],
   "source": [
    "import pandas as pd\n",
    "import re\n",
    "from nltk.sentiment.vader import SentimentIntensityAnalyzer\n",
    "import nltk\n",
    "\n",
    "nltk.download('vader_lexicon')\n",
    "\n",
    "#preprocessing\n",
    "def clean_tweet(text):\n",
    "    text = re.sub(r\"http\\S+|www\\S+|https\\S+\", '', text, flags=re.MULTILINE)\n",
    "    text = re.sub(r'\\@\\w+|\\#','', text)\n",
    "    text = re.sub(r'[^A-Za-z0-9\\s]+', '', text)\n",
    "    text = text.lower().strip()\n",
    "    tokens = text.split()\n",
    "    cleaned = ' '.join(tokens)\n",
    "    return cleaned\n",
    "\n",
    "def vader_sentiment(text):\n",
    "    sia = SentimentIntensityAnalyzer()\n",
    "    score = sia.polarity_scores(text)['compound']\n",
    "    if score >= 0.05:\n",
    "        label = 'positive'\n",
    "    elif score <= -0.05:\n",
    "        label = 'negative'\n",
    "    else:\n",
    "        label = 'neutral'\n",
    "    return label, score\n",
    "\n",
    "df = pd.read_csv('tweets-data.csv')\n",
    "print(df.columns)"
   ]
  },
  {
   "cell_type": "code",
   "execution_count": 5,
   "id": "939ba06a-c9e0-48ba-a4f4-730466cc6306",
   "metadata": {},
   "outputs": [],
   "source": [
    "df_sample = df.sample(n=500, random_state=42)\n",
    "\n",
    "df_sample['cleaned_tweet'] = df_sample['Tweets'].apply(clean_tweet)\n",
    "\n",
    "results = df_sample['cleaned_tweet'].apply(vader_sentiment)\n",
    "\n",
    "df_sample['sentiment_label'] = results.apply(lambda x: x[0])\n",
    "df_sample['sentiment_score'] = results.apply(lambda x: x[1])"
   ]
  },
  {
   "cell_type": "code",
   "execution_count": 6,
   "id": "ccf9e6a9-46a2-4cc8-844a-0ce645826101",
   "metadata": {},
   "outputs": [
    {
     "name": "stdout",
     "output_type": "stream",
     "text": [
      "                                                 Tweets  \\\n",
      "2899  Le #DessinDePresse de Sanaga : ls sont morts c...   \n",
      "594   #Russia #Wagner #RussiaCivilWar https://t.co/P...   \n",
      "2870  Exclusive content -https://t.co/oEiSIIB2Z1\\n.\\...   \n",
      "52    Auch heute geht die politische Nachricht des T...   \n",
      "1391  @crazyclipsonly Same type that would take a ho...   \n",
      "807   #SUGA_AgustD_TOUR_in_Seoul #SUGA_AgustD_TOUR #...   \n",
      "2761  #Titan mishap: #Implosion with incredible forc...   \n",
      "196                                     #Wagner #Russia   \n",
      "1576  #merri le #titanic 2 le retour https://t.co/4s...   \n",
      "670   Il Segretario di Stato americano #Blinken: \"no...   \n",
      "\n",
      "                                          cleaned_tweet sentiment_label  \\\n",
      "2899  le dessindepresse de sanaga ls sont morts comm...        positive   \n",
      "594                        russia wagner russiacivilwar         neutral   \n",
      "2870  exclusive content cosplay japan titan titanics...        negative   \n",
      "52    auch heute geht die politische nachricht des t...        negative   \n",
      "1391  same type that would take a homemade playstati...         neutral   \n",
      "807   sugaagustdtourinseoul sugaagustdtour glastonbu...         neutral   \n",
      "2761  titan mishap implosion with incredible force a...        negative   \n",
      "196                                       wagner russia         neutral   \n",
      "1576                   merri le titanic 2 le retour via         neutral   \n",
      "670   il segretario di stato americano blinken non c...         neutral   \n",
      "\n",
      "      sentiment_score  \n",
      "2899           0.4767  \n",
      "594            0.0000  \n",
      "2870          -0.4404  \n",
      "52            -0.5994  \n",
      "1391           0.0000  \n",
      "807            0.0000  \n",
      "2761          -0.5612  \n",
      "196            0.0000  \n",
      "1576           0.0000  \n",
      "670            0.0000  \n"
     ]
    }
   ],
   "source": [
    "print(df_sample[['Tweets', 'cleaned_tweet', 'sentiment_label', 'sentiment_score']].head(10))"
   ]
  },
  {
   "cell_type": "code",
   "execution_count": 7,
   "id": "23e27435-3f05-48de-afe4-eeabce0d5a03",
   "metadata": {},
   "outputs": [
    {
     "name": "stdout",
     "output_type": "stream",
     "text": [
      "neutral     277\n",
      "negative    118\n",
      "positive    105\n",
      "Name: sentiment_label, dtype: int64\n"
     ]
    }
   ],
   "source": [
    "print(df_sample['sentiment_label'].value_counts())"
   ]
  },
  {
   "cell_type": "code",
   "execution_count": 8,
   "id": "80ef92ae-a10b-4925-80b3-fabbc3f7e31a",
   "metadata": {},
   "outputs": [
    {
     "data": {
      "image/png": "[encoded data removed]",
      "text/plain": [
       "<Figure size 640x480 with 1 Axes>"
      ]
     },
     "metadata": {},
     "output_type": "display_data"
    }
   ],
   "source": [
    "import matplotlib.pyplot as plt\n",
    "\n",
    "df_sample['sentiment_label'].value_counts().plot(kind='bar', color=['green', 'red', 'grey'])\n",
    "plt.title('Distribution of sentiments in tweets')\n",
    "plt.xlabel('Sentiments')\n",
    "plt.ylabel('Quantity of tweets')\n",
    "plt.show()"
   ]
  }
 ],
 "metadata": {
  "kernelspec": {
   "display_name": "Python 3 (ipykernel)",
   "language": "python",
   "name": "python3"
  },
  "language_info": {
   "codemirror_mode": {
    "name": "ipython",
    "version": 3
   },
   "file_extension": ".py",
   "mimetype": "text/x-python",
   "name": "python",
   "nbconvert_exporter": "python",
   "pygments_lexer": "ipython3",
   "version": "3.11.7"
  }
 },
 "nbformat": 4,
 "nbformat_minor": 5
}
