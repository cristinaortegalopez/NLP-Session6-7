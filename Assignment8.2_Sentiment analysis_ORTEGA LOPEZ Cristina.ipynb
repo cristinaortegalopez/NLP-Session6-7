{
 "cells": [
  {
   "cell_type": "markdown",
   "id": "aa6d3b12-0947-4880-8b9e-dbbf50ce9230",
   "metadata": {},
   "source": [
    "Assignment 8.1.: Sentiment analysis"
   ]
  },
  {
   "cell_type": "markdown",
   "id": "ec42ee67-0300-42fc-93c2-b1dc999ae3e5",
   "metadata": {},
   "source": [
    "Sentiment analysis: Machine learning based method"
   ]
  },
  {
   "cell_type": "code",
   "execution_count": 1,
   "id": "73702874-1ca3-476d-886c-7b19733dc601",
   "metadata": {},
   "outputs": [
    {
     "name": "stdout",
     "output_type": "stream",
     "text": [
      "Requirement already satisfied: transformers in c:\\users\\cristina ortega\\anaconda3\\lib\\site-packages (4.53.1)\n",
      "Requirement already satisfied: filelock in c:\\users\\cristina ortega\\anaconda3\\lib\\site-packages (from transformers) (3.13.1)\n",
      "Requirement already satisfied: huggingface-hub<1.0,>=0.30.0 in c:\\users\\cristina ortega\\anaconda3\\lib\\site-packages (from transformers) (0.33.2)\n",
      "Requirement already satisfied: numpy>=1.17 in c:\\users\\cristina ortega\\anaconda3\\lib\\site-packages (from transformers) (1.24.4)\n",
      "Requirement already satisfied: packaging>=20.0 in c:\\users\\cristina ortega\\anaconda3\\lib\\site-packages (from transformers) (23.1)\n",
      "Requirement already satisfied: pyyaml>=5.1 in c:\\users\\cristina ortega\\anaconda3\\lib\\site-packages (from transformers) (6.0.1)\n",
      "Requirement already satisfied: regex!=2019.12.17 in c:\\users\\cristina ortega\\anaconda3\\lib\\site-packages (from transformers) (2023.10.3)\n",
      "Requirement already satisfied: requests in c:\\users\\cristina ortega\\anaconda3\\lib\\site-packages (from transformers) (2.31.0)\n",
      "Requirement already satisfied: tokenizers<0.22,>=0.21 in c:\\users\\cristina ortega\\anaconda3\\lib\\site-packages (from transformers) (0.21.2)\n",
      "Requirement already satisfied: safetensors>=0.4.3 in c:\\users\\cristina ortega\\anaconda3\\lib\\site-packages (from transformers) (0.5.3)\n",
      "Requirement already satisfied: tqdm>=4.27 in c:\\users\\cristina ortega\\anaconda3\\lib\\site-packages (from transformers) (4.65.0)\n",
      "Requirement already satisfied: fsspec>=2023.5.0 in c:\\users\\cristina ortega\\anaconda3\\lib\\site-packages (from huggingface-hub<1.0,>=0.30.0->transformers) (2023.10.0)\n",
      "Requirement already satisfied: typing-extensions>=3.7.4.3 in c:\\users\\cristina ortega\\anaconda3\\lib\\site-packages (from huggingface-hub<1.0,>=0.30.0->transformers) (4.14.1)\n",
      "Requirement already satisfied: colorama in c:\\users\\cristina ortega\\anaconda3\\lib\\site-packages (from tqdm>=4.27->transformers) (0.4.6)\n",
      "Requirement already satisfied: charset-normalizer<4,>=2 in c:\\users\\cristina ortega\\anaconda3\\lib\\site-packages (from requests->transformers) (2.0.4)\n",
      "Requirement already satisfied: idna<4,>=2.5 in c:\\users\\cristina ortega\\anaconda3\\lib\\site-packages (from requests->transformers) (3.4)\n",
      "Requirement already satisfied: urllib3<3,>=1.21.1 in c:\\users\\cristina ortega\\anaconda3\\lib\\site-packages (from requests->transformers) (2.0.7)\n",
      "Requirement already satisfied: certifi>=2017.4.17 in c:\\users\\cristina ortega\\anaconda3\\lib\\site-packages (from requests->transformers) (2024.2.2)\n",
      "Note: you may need to restart the kernel to use updated packages.\n"
     ]
    }
   ],
   "source": [
    "pip install transformers"
   ]
  },
  {
   "cell_type": "code",
   "execution_count": 5,
   "id": "727d7aec-64cd-46b5-9440-5c08a3abdb7d",
   "metadata": {},
   "outputs": [
    {
     "name": "stderr",
     "output_type": "stream",
     "text": [
      "No model was supplied, defaulted to distilbert/distilbert-base-uncased-finetuned-sst-2-english and revision 714eb0f (https://huggingface.co/distilbert/distilbert-base-uncased-finetuned-sst-2-english).\n",
      "Using a pipeline without specifying a model name and revision in production is not recommended.\n",
      "Device set to use cpu\n"
     ]
    },
    {
     "name": "stdout",
     "output_type": "stream",
     "text": [
      "                                                 Tweets  \\\n",
      "2899  Le #DessinDePresse de Sanaga : ls sont morts c...   \n",
      "594   #Russia #Wagner #RussiaCivilWar https://t.co/P...   \n",
      "2870  Exclusive content -https://t.co/oEiSIIB2Z1\\n.\\...   \n",
      "52    Auch heute geht die politische Nachricht des T...   \n",
      "1391  @crazyclipsonly Same type that would take a ho...   \n",
      "\n",
      "                                          cleaned_tweet sentiment_label  \\\n",
      "2899  Le DessinDePresse de Sanaga ls sont morts comm...        negative   \n",
      "594                        Russia Wagner RussiaCivilWar        negative   \n",
      "2870  Exclusive content cosplay japan Titan titanics...        negative   \n",
      "52    Auch heute geht die politische Nachricht des T...        negative   \n",
      "1391  Same type that would take a homemade PlayStati...        negative   \n",
      "\n",
      "      sentiment_score  \n",
      "2899         0.981537  \n",
      "594          0.962062  \n",
      "2870         0.961531  \n",
      "52           0.975570  \n",
      "1391         0.994473  \n"
     ]
    }
   ],
   "source": [
    "import pandas as pd\n",
    "from transformers import pipeline\n",
    "import re\n",
    "\n",
    "df = pd.read_csv('tweets-data.csv')\n",
    "\n",
    "def clean_tweet(text):\n",
    "    text = re.sub(r\"http\\S+|www\\S+|https\\S+\", '', text, flags=re.MULTILINE)\n",
    "    text = re.sub(r'\\@\\w+|\\#','', text)\n",
    "    text = re.sub(r'[^A-Za-z0-9\\s]+', '', text)\n",
    "    tokens = text.split()\n",
    "    cleaned = ' '.join(tokens)\n",
    "    return cleaned\n",
    "\n",
    "df_sample = df.sample(n=500, random_state=42)\n",
    "df_sample['cleaned_tweet'] = df_sample['Tweets'].apply(clean_tweet)\n",
    "\n",
    "sentiment_pipeline = pipeline('sentiment-analysis', truncation=True)\n",
    "\n",
    "texts = df_sample['cleaned_tweet'].tolist()\n",
    "results = sentiment_pipeline(texts)\n",
    "\n",
    "df_sample['sentiment_label'] = [r['label'].lower() for r in results]\n",
    "df_sample['sentiment_score'] = [r['score'] for r in results]\n",
    "\n",
    "print(df_sample[['Tweets', 'cleaned_tweet', 'sentiment_label', 'sentiment_score']].head())"
   ]
  },
  {
   "cell_type": "code",
   "execution_count": 6,
   "id": "399899c6-65d8-45a5-a448-0e90ce6e9586",
   "metadata": {},
   "outputs": [
    {
     "data": {
      "image/png": "[encoded data removed]",
      "text/plain": [
       "<Figure size 640x480 with 1 Axes>"
      ]
     },
     "metadata": {},
     "output_type": "display_data"
    },
    {
     "name": "stdout",
     "output_type": "stream",
     "text": [
      "Examples with high scores (>0.95):\n",
      "                                                 Tweets sentiment_label  \\\n",
      "2899  Le #DessinDePresse de Sanaga : ls sont morts c...        negative   \n",
      "594   #Russia #Wagner #RussiaCivilWar https://t.co/P...        negative   \n",
      "2870  Exclusive content -https://t.co/oEiSIIB2Z1\\n.\\...        negative   \n",
      "52    Auch heute geht die politische Nachricht des T...        negative   \n",
      "1391  @crazyclipsonly Same type that would take a ho...        negative   \n",
      "\n",
      "      sentiment_score  \n",
      "2899         0.981537  \n",
      "594          0.962062  \n",
      "2870         0.961531  \n",
      "52           0.975570  \n",
      "1391         0.994473  \n",
      "\n",
      "Examples with low scores (<0.60):\n",
      "                                                 Tweets sentiment_label  \\\n",
      "1116  Totalmente cierto #submarino #Titanic #Titan #...        positive   \n",
      "2600  En #Cuba encuentra la casa de tus vacaciones s...        positive   \n",
      "332   @McFaul @SecBlinken There is more wickedness t...        positive   \n",
      "2232  Listening to \"The Titanic and The Titan (Speci...        negative   \n",
      "511   Cool by the Kremlin Pool? Although no official...        negative   \n",
      "\n",
      "      sentiment_score  \n",
      "1116         0.525403  \n",
      "2600         0.516599  \n",
      "332          0.518045  \n",
      "2232         0.568070  \n",
      "511          0.571161  \n"
     ]
    }
   ],
   "source": [
    "#plotting\n",
    "import matplotlib.pyplot as plt\n",
    "\n",
    "plt.hist(df_sample['sentiment_score'], bins=30, color='skyblue', edgecolor='black')\n",
    "plt.title('Distribution of Sentiment Scores')\n",
    "plt.xlabel('Sentiment Score')\n",
    "plt.ylabel('Frequency')\n",
    "plt.show()\n",
    "\n",
    "#high sentiment scores\n",
    "print(\"Examples with high scores (>0.95):\")\n",
    "print(df_sample[df_sample['sentiment_score'] > 0.95][['Tweets', 'sentiment_label', 'sentiment_score']].head(5))\n",
    "\n",
    "#low sentiment scores\n",
    "print(\"\\nExamples with low scores (<0.60):\")\n",
    "print(df_sample[df_sample['sentiment_score'] < 0.60][['Tweets', 'sentiment_label', 'sentiment_score']].head(5))"
   ]
  }
 ],
 "metadata": {
  "kernelspec": {
   "display_name": "Python 3 (ipykernel)",
   "language": "python",
   "name": "python3"
  },
  "language_info": {
   "codemirror_mode": {
    "name": "ipython",
    "version": 3
   },
   "file_extension": ".py",
   "mimetype": "text/x-python",
   "name": "python",
   "nbconvert_exporter": "python",
   "pygments_lexer": "ipython3",
   "version": "3.11.7"
  }
 },
 "nbformat": 4,
 "nbformat_minor": 5
}
