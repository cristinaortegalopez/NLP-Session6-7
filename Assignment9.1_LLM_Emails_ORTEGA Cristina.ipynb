{
 "cells": [
  {
   "cell_type": "markdown",
   "id": "d6d9a5ac-a71a-4c7e-ad46-8a940cd85fa7",
   "metadata": {},
   "source": [
    "Assignment 9.1.: Using LLM for classifying emails"
   ]
  },
  {
   "cell_type": "code",
   "execution_count": 1,
   "id": "77a5c3c3-3147-4e1f-8c89-f778018ee1cd",
   "metadata": {},
   "outputs": [
    {
     "name": "stdout",
     "output_type": "stream",
     "text": [
      "Index(['text', 'target'], dtype='object')\n"
     ]
    }
   ],
   "source": [
    "import pandas as pd\n",
    "from transformers import pipeline\n",
    "\n",
    "df = pd.read_csv('spam.csv')\n",
    "\n",
    "print(df.columns)"
   ]
  },
  {
   "cell_type": "code",
   "execution_count": 10,
   "id": "916d7e70-f571-4be3-bffc-b08f966f84b8",
   "metadata": {},
   "outputs": [
    {
     "name": "stderr",
     "output_type": "stream",
     "text": [
      "Device set to use cpu\n"
     ]
    },
    {
     "name": "stdout",
     "output_type": "stream",
     "text": [
      "                                                text predicted_label\n",
      "0  Go until jurong point, crazy.. Available only ...            spam\n",
      "1                      Ok lar... Joking wif u oni...            spam\n",
      "2  Free entry in 2 a wkly comp to win FA Cup fina...            spam\n",
      "3  U dun say so early hor... U c already then say...            spam\n",
      "4  Nah I don't think he goes to usf, he lives aro...            spam\n"
     ]
    }
   ],
   "source": [
    "classifier = pipeline('text-classification', model='distilbert-base-uncased-finetuned-sst-2-english')\n",
    "\n",
    "def classify_email(text):\n",
    "    result = classifier(text)[0]\n",
    "    label = result['label'].lower()\n",
    "    return 'not spam' if label == 'positive' else 'spam'\n",
    "\n",
    "df['predicted_label'] = df['text'].apply(classify_email)\n",
    "\n",
    "print(df[['text', 'predicted_label']].head())"
   ]
  },
  {
   "cell_type": "code",
   "execution_count": 12,
   "id": "aa9885ea-7a50-4ec9-b847-ce9dd6aa63e1",
   "metadata": {},
   "outputs": [
    {
     "name": "stdout",
     "output_type": "stream",
     "text": [
      "[nan]\n",
      "['spam' 'not spam']\n"
     ]
    }
   ],
   "source": [
    "#performance evaluation\n",
    "from sklearn.metrics import classification_report, confusion_matrix\n",
    "\n",
    "print(df['true_label'].unique())\n",
    "print(df['predicted_label'].unique())"
   ]
  },
  {
   "cell_type": "code",
   "execution_count": 14,
   "id": "21152eac-a725-4d44-ba77-3931f564af54",
   "metadata": {},
   "outputs": [
    {
     "name": "stdout",
     "output_type": "stream",
     "text": [
      "ham     4825\n",
      "spam     747\n",
      "Name: target, dtype: int64\n"
     ]
    }
   ],
   "source": [
    "print(df['target'].value_counts(dropna=False))"
   ]
  },
  {
   "cell_type": "code",
   "execution_count": 15,
   "id": "3dfbf632-b416-468b-bebc-fe1ea34d013e",
   "metadata": {},
   "outputs": [
    {
     "name": "stdout",
     "output_type": "stream",
     "text": [
      "              precision    recall  f1-score   support\n",
      "\n",
      "         ham       0.00      0.00      0.00      4825\n",
      "    not spam       0.00      0.00      0.00         0\n",
      "        spam       0.17      0.82      0.28       747\n",
      "\n",
      "    accuracy                           0.11      5572\n",
      "   macro avg       0.06      0.27      0.09      5572\n",
      "weighted avg       0.02      0.11      0.04      5572\n",
      "\n",
      "[[   0 1848 2977]\n",
      " [   0    0    0]\n",
      " [   0  138  609]]\n"
     ]
    },
    {
     "name": "stderr",
     "output_type": "stream",
     "text": [
      "C:\\Users\\Cristina Ortega\\anaconda3\\Lib\\site-packages\\sklearn\\metrics\\_classification.py:1471: UndefinedMetricWarning: Precision and F-score are ill-defined and being set to 0.0 in labels with no predicted samples. Use `zero_division` parameter to control this behavior.\n",
      "  _warn_prf(average, modifier, msg_start, len(result))\n",
      "C:\\Users\\Cristina Ortega\\anaconda3\\Lib\\site-packages\\sklearn\\metrics\\_classification.py:1471: UndefinedMetricWarning: Recall and F-score are ill-defined and being set to 0.0 in labels with no true samples. Use `zero_division` parameter to control this behavior.\n",
      "  _warn_prf(average, modifier, msg_start, len(result))\n",
      "C:\\Users\\Cristina Ortega\\anaconda3\\Lib\\site-packages\\sklearn\\metrics\\_classification.py:1471: UndefinedMetricWarning: Precision and F-score are ill-defined and being set to 0.0 in labels with no predicted samples. Use `zero_division` parameter to control this behavior.\n",
      "  _warn_prf(average, modifier, msg_start, len(result))\n",
      "C:\\Users\\Cristina Ortega\\anaconda3\\Lib\\site-packages\\sklearn\\metrics\\_classification.py:1471: UndefinedMetricWarning: Recall and F-score are ill-defined and being set to 0.0 in labels with no true samples. Use `zero_division` parameter to control this behavior.\n",
      "  _warn_prf(average, modifier, msg_start, len(result))\n",
      "C:\\Users\\Cristina Ortega\\anaconda3\\Lib\\site-packages\\sklearn\\metrics\\_classification.py:1471: UndefinedMetricWarning: Precision and F-score are ill-defined and being set to 0.0 in labels with no predicted samples. Use `zero_division` parameter to control this behavior.\n",
      "  _warn_prf(average, modifier, msg_start, len(result))\n",
      "C:\\Users\\Cristina Ortega\\anaconda3\\Lib\\site-packages\\sklearn\\metrics\\_classification.py:1471: UndefinedMetricWarning: Recall and F-score are ill-defined and being set to 0.0 in labels with no true samples. Use `zero_division` parameter to control this behavior.\n",
      "  _warn_prf(average, modifier, msg_start, len(result))\n"
     ]
    }
   ],
   "source": [
    "df['true_label'] = df['target'].map({0: 'not spam', 1: 'spam'})\n",
    "\n",
    "df['true_label'] = df['target']\n",
    "\n",
    "print(classification_report(df['true_label'], df['predicted_label']))\n",
    "print(confusion_matrix(df['true_label'], df['predicted_label']))"
   ]
  },
  {
   "cell_type": "code",
   "execution_count": 16,
   "id": "33af32db-2ef6-4ba6-8fc8-6c299c1abbdc",
   "metadata": {},
   "outputs": [
    {
     "name": "stdout",
     "output_type": "stream",
     "text": [
      "['ham' 'spam']\n",
      "['spam' 'not spam']\n"
     ]
    }
   ],
   "source": [
    "print(df['true_label'].unique())\n",
    "print(df['predicted_label'].unique())"
   ]
  },
  {
   "cell_type": "code",
   "execution_count": 17,
   "id": "bafcecfa-34d5-4b91-b14d-50a83aeed008",
   "metadata": {},
   "outputs": [],
   "source": [
    "df['true_label'] = df['true_label'].replace({'ham': 'not spam'})\n",
    "df['predicted_label'] = df['predicted_label'].replace({'ham': 'not spam'})"
   ]
  },
  {
   "cell_type": "code",
   "execution_count": 18,
   "id": "69493c89-2703-488d-80da-c0a54124eb96",
   "metadata": {},
   "outputs": [
    {
     "name": "stdout",
     "output_type": "stream",
     "text": [
      "              precision    recall  f1-score   support\n",
      "\n",
      "    not spam     0.9305    0.3830    0.5427      4825\n",
      "        spam     0.1698    0.8153    0.2811       747\n",
      "\n",
      "    accuracy                         0.4410      5572\n",
      "   macro avg     0.5502    0.5991    0.4119      5572\n",
      "weighted avg     0.8285    0.4410    0.5076      5572\n",
      "\n"
     ]
    }
   ],
   "source": [
    "df['true_label'] = df['true_label'].replace({'ham': 'not spam'})\n",
    "\n",
    "report = classification_report(df['true_label'], df['predicted_label'], digits=4)\n",
    "print(report)"
   ]
  }
 ],
 "metadata": {
  "kernelspec": {
   "display_name": "Python 3 (ipykernel)",
   "language": "python",
   "name": "python3"
  },
  "language_info": {
   "codemirror_mode": {
    "name": "ipython",
    "version": 3
   },
   "file_extension": ".py",
   "mimetype": "text/x-python",
   "name": "python",
   "nbconvert_exporter": "python",
   "pygments_lexer": "ipython3",
   "version": "3.11.7"
  }
 },
 "nbformat": 4,
 "nbformat_minor": 5
}
